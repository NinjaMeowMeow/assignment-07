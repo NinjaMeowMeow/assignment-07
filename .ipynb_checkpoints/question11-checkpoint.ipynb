{
 "cells": [
  {
   "cell_type": "markdown",
   "id": "bc77dfa0-2489-4bd7-8538-f1589f4d0cc1",
   "metadata": {},
   "source": [
    "# Alice Miao\n",
    "Notebook for assignment 7"
   ]
  },
  {
   "cell_type": "code",
   "execution_count": 1,
   "id": "c4f44755-e853-4e24-9f91-913c9ce98bb6",
   "metadata": {},
   "outputs": [
    {
     "name": "stdout",
     "output_type": "stream",
     "text": [
      "Mean: 5.0\n"
     ]
    }
   ],
   "source": [
    "def compute_mean(values):\n",
    "    mean_value = sum(values) / len(values)\n",
    "    print(f\"Mean: {mean_value}\")\n",
    "\n",
    "# Call the function\n",
    "compute_mean([2, 4, 6, 8])"
   ]
  },
  {
   "cell_type": "markdown",
   "id": "fcd56765-7999-4590-addd-cc5c5982c1d3",
   "metadata": {},
   "source": [
    "### Explanation\n",
    "The function `compute_mean()` calculates the mean of a list by summing the values and dividing by the total number of elements.\n",
    "\n",
    "The formula for the mean is:\n",
    "\n",
    "$$\n",
    "\\bar{x} = \\frac{x_1 + x_2 + \\dots + x_n}{n} = \\frac{1}{n} \\sum_{i=1}^{n} x_i\n",
    "$$\n",
    "\n"
   ]
  },
  {
   "cell_type": "code",
   "execution_count": null,
   "id": "979fa27f-196f-45d6-8353-fbcdda8660a7",
   "metadata": {},
   "outputs": [],
   "source": []
  }
 ],
 "metadata": {
  "kernelspec": {
   "display_name": "Python [conda env:base] *",
   "language": "python",
   "name": "conda-base-py"
  },
  "language_info": {
   "codemirror_mode": {
    "name": "ipython",
    "version": 3
   },
   "file_extension": ".py",
   "mimetype": "text/x-python",
   "name": "python",
   "nbconvert_exporter": "python",
   "pygments_lexer": "ipython3",
   "version": "3.12.3"
  }
 },
 "nbformat": 4,
 "nbformat_minor": 5
}
